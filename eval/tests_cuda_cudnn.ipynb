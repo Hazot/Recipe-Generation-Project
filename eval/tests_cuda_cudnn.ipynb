{
 "cells": [
  {
   "cell_type": "code",
   "execution_count": 1,
   "id": "b8b6a592-4819-4da6-b56a-f0424b371e27",
   "metadata": {},
   "outputs": [],
   "source": [
    "\n",
    "import time\n",
    "import torch"
   ]
  },
  {
   "cell_type": "code",
   "execution_count": 2,
   "id": "c5395390-df0b-4b97-9f61-ef8c87389937",
   "metadata": {},
   "outputs": [
    {
     "data": {
      "text/plain": [
       "'NVIDIA GeForce GTX 1080 Ti'"
      ]
     },
     "execution_count": 2,
     "metadata": {},
     "output_type": "execute_result"
    }
   ],
   "source": [
    "\n",
    "torch.cuda.get_device_name()"
   ]
  },
  {
   "cell_type": "code",
   "execution_count": 3,
   "id": "d1dafc6d-bbea-4225-a0e7-8be3f0df8f35",
   "metadata": {},
   "outputs": [
    {
     "data": {
      "text/plain": [
       "True"
      ]
     },
     "execution_count": 3,
     "metadata": {},
     "output_type": "execute_result"
    }
   ],
   "source": [
    "torch.backends.cudnn.enabled\n"
   ]
  },
  {
   "cell_type": "code",
   "execution_count": 4,
   "id": "7f6f10e7-a5c8-4f3d-825a-ab59b2327fbd",
   "metadata": {},
   "outputs": [
    {
     "name": "stdout",
     "output_type": "stream",
     "text": [
      "cuda\n"
     ]
    }
   ],
   "source": [
    "\n",
    "device = torch.device('cuda' if torch.cuda.is_available() else 'cpu')\n",
    "print(device)"
   ]
  },
  {
   "cell_type": "code",
   "execution_count": 5,
   "id": "3ae6eea2-95d2-4351-8cde-52632106ae8d",
   "metadata": {},
   "outputs": [],
   "source": [
    "N = 2048"
   ]
  },
  {
   "cell_type": "code",
   "execution_count": 13,
   "id": "07f6e698-f2b1-4bee-8fc4-36b9889e2a13",
   "metadata": {},
   "outputs": [
    {
     "name": "stdout",
     "output_type": "stream",
     "text": [
      "Starting matmul\n",
      "Starting matmul\n",
      "Starting matmul\n",
      "Starting matmul\n",
      "Starting matmul\n",
      "Starting matmul\n",
      "Starting matmul\n",
      "Starting matmul\n",
      "Starting matmul\n",
      "Starting matmul\n",
      "2051.80 us, 8373.07 GFLOPS\n"
     ]
    }
   ],
   "source": [
    "a = torch.randn((N, N), dtype=torch.float32).to(device)\n",
    "b = torch.randn((N, N), dtype=torch.float32).to(device)\n",
    "def fct():\n",
    "    print(\"Starting matmul\")\n",
    "    st = time.monotonic()\n",
    "    c = a @ b\n",
    "    torch.zeros(1, device=\"cuda\").cpu()\n",
    "    return time.monotonic() - st\n",
    "flops = N*N*N*2\n",
    "et = min((fct() for _ in range(10)))\n",
    "print(f\"{et*1e6:.2f} us, {flops*1e-9/et:.2f} GFLOPS\")"
   ]
  },
  {
   "cell_type": "code",
   "execution_count": null,
   "id": "bdeb077e-a6d5-4c1b-8c33-c873d352b366",
   "metadata": {},
   "outputs": [],
   "source": []
  }
 ],
 "metadata": {
  "kernelspec": {
   "display_name": "nlg (py3.9-cu11.7)",
   "language": "python",
   "name": "myenv"
  },
  "language_info": {
   "codemirror_mode": {
    "name": "ipython",
    "version": 3
   },
   "file_extension": ".py",
   "mimetype": "text/x-python",
   "name": "python",
   "nbconvert_exporter": "python",
   "pygments_lexer": "ipython3",
   "version": "3.9.16"
  }
 },
 "nbformat": 4,
 "nbformat_minor": 5
}
