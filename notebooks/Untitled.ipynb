{
 "cells": [
  {
   "cell_type": "code",
   "execution_count": 4,
   "id": "71572fa1-b93d-490c-bc17-656dc4213456",
   "metadata": {},
   "outputs": [],
   "source": [
    "import numpy as np\n",
    "import pandas as pd\n",
    "from hydra.utils import get_original_cwd\n",
    "import os"
   ]
  },
  {
   "cell_type": "code",
   "execution_count": 10,
   "id": "5315817e-ca11-448e-8bcc-dff4ce4ec021",
   "metadata": {},
   "outputs": [
    {
     "data": {
      "text/plain": [
       "'./data/full_dataset.csv'"
      ]
     },
     "execution_count": 10,
     "metadata": {},
     "output_type": "execute_result"
    }
   ],
   "source": [
    "local_path = os.path.curdir\n",
    "full_dataset_path = local_path + \"/data/full_dataset.csv\"\n",
    "full_dataset_path"
   ]
  },
  {
   "cell_type": "code",
   "execution_count": 11,
   "id": "98240b2e-5e8a-448d-ba0c-814d5424daf5",
   "metadata": {},
   "outputs": [],
   "source": [
    "test_train_path =  local_path + \"/data/unsupervised_train.txt\"\n",
    "test_txt_path =  local_path + \"/data/unsupervised_test.txt\""
   ]
  },
  {
   "cell_type": "code",
   "execution_count": null,
   "id": "c65c9dc8-2f88-49b1-b6b8-3d4c19c59743",
   "metadata": {},
   "outputs": [],
   "source": []
  }
 ],
 "metadata": {
  "kernelspec": {
   "display_name": "nlg (3.9.16)",
   "language": "python",
   "name": "nlg"
  },
  "language_info": {
   "codemirror_mode": {
    "name": "ipython",
    "version": 3
   },
   "file_extension": ".py",
   "mimetype": "text/x-python",
   "name": "python",
   "nbconvert_exporter": "python",
   "pygments_lexer": "ipython3",
   "version": "3.9.16"
  }
 },
 "nbformat": 4,
 "nbformat_minor": 5
}
