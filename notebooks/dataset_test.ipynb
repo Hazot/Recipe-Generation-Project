{
 "cells": [
  {
   "cell_type": "code",
   "execution_count": 1,
   "id": "71572fa1-b93d-490c-bc17-656dc4213456",
   "metadata": {},
   "outputs": [],
   "source": [
    "import numpy as np\n",
    "import pandas as pd\n",
    "from hydra.utils import get_original_cwd\n",
    "import os\n",
    "import re\n",
    "from tqdm import tqdm"
   ]
  },
  {
   "cell_type": "code",
   "execution_count": 2,
   "id": "5315817e-ca11-448e-8bcc-dff4ce4ec021",
   "metadata": {},
   "outputs": [],
   "source": [
    "local_path = os.path.normpath(os.getcwd() + os.sep + os.pardir)"
   ]
  },
  {
   "cell_type": "code",
   "execution_count": 3,
   "id": "98240b2e-5e8a-448d-ba0c-814d5424daf5",
   "metadata": {},
   "outputs": [],
   "source": [
    "train_txt_path = local_path + \"/data/unsupervised_train.txt\"\n",
    "test_txt_path = local_path + \"/data/unsupervised_test.txt\""
   ]
  },
  {
   "cell_type": "code",
   "execution_count": 7,
   "id": "c3a228b7-7496-4ba5-8c74-d660e9f579c8",
   "metadata": {},
   "outputs": [],
   "source": [
    "test_output_path = local_path + \"/data/unsupervised_test_filtered.txt\"\n",
    "train_output_path = local_path + \"/data/unsupervised_train_filtered.txt\""
   ]
  },
  {
   "cell_type": "code",
   "execution_count": 9,
   "id": "b64f492f-e746-4985-ab42-78e9cf871692",
   "metadata": {
    "tags": []
   },
   "outputs": [],
   "source": [
    "def filter_txt(input_path, output_path):\n",
    "    print(\"Filtering\", input_path, \"to\", output_path)\n",
    "    count = 0\n",
    "    bad_lines = pd.DataFrame()\n",
    "    pattern1 = r\"<RECIPE_START>\"\n",
    "    pattern2 = r\"<RECIPE_END>\"\n",
    "    with open(input_path, 'r') as f_in:\n",
    "        with open(output_path, 'w') as f_out:\n",
    "            for i, row in tqdm(enumerate(f_in), desc=\"Filtering\"):\n",
    "                if re.search(pattern1, row) and re.search(pattern2, row):\n",
    "                    f_out.write(\"{}\\n\".format(row))\n",
    "                    continue\n",
    "                else:\n",
    "                    d = {'index': i,\n",
    "                         'txt': row}\n",
    "                    new_row = pd.DataFrame(d, index=[0])\n",
    "                    bad_lines = pd.concat([bad_lines, new_row]).reset_index(drop=True)\n",
    "                    count += 1\n",
    "    print('count', count)\n",
    "    return bad_lines"
   ]
  },
  {
   "cell_type": "code",
   "execution_count": 10,
   "id": "16f5a5c9-a708-469f-9abb-8eb407372e22",
   "metadata": {},
   "outputs": [
    {
     "name": "stdout",
     "output_type": "stream",
     "text": [
      "Filtering /home/kevin/code/udem/6289ift/project/data/unsupervised_test.txt to /home/kevin/code/udem/6289ift/project/data/unsupervised_test_filtered.txt\n"
     ]
    },
    {
     "name": "stderr",
     "output_type": "stream",
     "text": [
      "Filtering: 106573it [00:01, 71789.33it/s]"
     ]
    },
    {
     "name": "stdout",
     "output_type": "stream",
     "text": [
      "count 1871\n"
     ]
    },
    {
     "name": "stderr",
     "output_type": "stream",
     "text": [
      "\n"
     ]
    },
    {
     "data": {
      "text/html": [
       "<div>\n",
       "<style scoped>\n",
       "    .dataframe tbody tr th:only-of-type {\n",
       "        vertical-align: middle;\n",
       "    }\n",
       "\n",
       "    .dataframe tbody tr th {\n",
       "        vertical-align: top;\n",
       "    }\n",
       "\n",
       "    .dataframe thead th {\n",
       "        text-align: right;\n",
       "    }\n",
       "</style>\n",
       "<table border=\"1\" class=\"dataframe\">\n",
       "  <thead>\n",
       "    <tr style=\"text-align: right;\">\n",
       "      <th></th>\n",
       "      <th>index</th>\n",
       "      <th>txt</th>\n",
       "    </tr>\n",
       "  </thead>\n",
       "  <tbody>\n",
       "    <tr>\n",
       "      <th>0</th>\n",
       "      <td>18</td>\n",
       "      <td>&lt;RECIPE_START&gt; &lt;INPUT_START&gt; lemon cake &lt;NEXT_...</td>\n",
       "    </tr>\n",
       "    <tr>\n",
       "      <th>1</th>\n",
       "      <td>19</td>\n",
       "      <td>\\n</td>\n",
       "    </tr>\n",
       "    <tr>\n",
       "      <th>2</th>\n",
       "      <td>20</td>\n",
       "      <td>You will need to divide each of these two laye...</td>\n",
       "    </tr>\n",
       "    <tr>\n",
       "      <th>3</th>\n",
       "      <td>21</td>\n",
       "      <td>\\n</td>\n",
       "    </tr>\n",
       "    <tr>\n",
       "      <th>4</th>\n",
       "      <td>22</td>\n",
       "      <td>In a large saucepan (much larger than you thin...</td>\n",
       "    </tr>\n",
       "  </tbody>\n",
       "</table>\n",
       "</div>"
      ],
      "text/plain": [
       "   index                                                txt\n",
       "0     18  <RECIPE_START> <INPUT_START> lemon cake <NEXT_...\n",
       "1     19                                                 \\n\n",
       "2     20  You will need to divide each of these two laye...\n",
       "3     21                                                 \\n\n",
       "4     22  In a large saucepan (much larger than you thin..."
      ]
     },
     "execution_count": 10,
     "metadata": {},
     "output_type": "execute_result"
    }
   ],
   "source": [
    "df = filter_txt(test_txt_path, test_output_path)\n",
    "df.head()"
   ]
  },
  {
   "cell_type": "code",
   "execution_count": 11,
   "id": "a87da90c-9f0d-44a7-82bf-e7de9ca3ecab",
   "metadata": {},
   "outputs": [
    {
     "name": "stdout",
     "output_type": "stream",
     "text": [
      "Filtering /home/kevin/code/udem/6289ift/project/data/unsupervised_train.txt to /home/kevin/code/udem/6289ift/project/data/unsupervised_train_filtered.txt\n"
     ]
    },
    {
     "name": "stderr",
     "output_type": "stream",
     "text": [
      "Filtering: 2022300it [00:39, 51351.46it/s]"
     ]
    },
    {
     "name": "stdout",
     "output_type": "stream",
     "text": [
      "count 33431\n"
     ]
    },
    {
     "name": "stderr",
     "output_type": "stream",
     "text": [
      "\n"
     ]
    },
    {
     "data": {
      "text/html": [
       "<div>\n",
       "<style scoped>\n",
       "    .dataframe tbody tr th:only-of-type {\n",
       "        vertical-align: middle;\n",
       "    }\n",
       "\n",
       "    .dataframe tbody tr th {\n",
       "        vertical-align: top;\n",
       "    }\n",
       "\n",
       "    .dataframe thead th {\n",
       "        text-align: right;\n",
       "    }\n",
       "</style>\n",
       "<table border=\"1\" class=\"dataframe\">\n",
       "  <thead>\n",
       "    <tr style=\"text-align: right;\">\n",
       "      <th></th>\n",
       "      <th>index</th>\n",
       "      <th>txt</th>\n",
       "    </tr>\n",
       "  </thead>\n",
       "  <tbody>\n",
       "    <tr>\n",
       "      <th>0</th>\n",
       "      <td>318</td>\n",
       "      <td>&lt;RECIPE_START&gt; &lt;INPUT_START&gt; Berry Basil &lt;NEXT...</td>\n",
       "    </tr>\n",
       "    <tr>\n",
       "      <th>1</th>\n",
       "      <td>319</td>\n",
       "      <td>\\n</td>\n",
       "    </tr>\n",
       "    <tr>\n",
       "      <th>2</th>\n",
       "      <td>320</td>\n",
       "      <td>Optional: Garnish with dollops of sour cream, ...</td>\n",
       "    </tr>\n",
       "    <tr>\n",
       "      <th>3</th>\n",
       "      <td>424</td>\n",
       "      <td>&lt;RECIPE_START&gt; &lt;INPUT_START&gt; Arugula &lt;NEXT_INP...</td>\n",
       "    </tr>\n",
       "    <tr>\n",
       "      <th>4</th>\n",
       "      <td>425</td>\n",
       "      <td>\\n</td>\n",
       "    </tr>\n",
       "  </tbody>\n",
       "</table>\n",
       "</div>"
      ],
      "text/plain": [
       "   index                                                txt\n",
       "0    318  <RECIPE_START> <INPUT_START> Berry Basil <NEXT...\n",
       "1    319                                                 \\n\n",
       "2    320  Optional: Garnish with dollops of sour cream, ...\n",
       "3    424  <RECIPE_START> <INPUT_START> Arugula <NEXT_INP...\n",
       "4    425                                                 \\n"
      ]
     },
     "execution_count": 11,
     "metadata": {},
     "output_type": "execute_result"
    }
   ],
   "source": [
    "df = filter_txt(train_txt_path, train_output_path)\n",
    "df.head()"
   ]
  },
  {
   "cell_type": "code",
   "execution_count": null,
   "id": "bdcd6568-4831-43f2-812a-5ba3a3ed3b86",
   "metadata": {},
   "outputs": [],
   "source": []
  },
  {
   "cell_type": "code",
   "execution_count": null,
   "id": "26ff7fa3-3211-4c75-a3cb-1c79f7c70162",
   "metadata": {},
   "outputs": [],
   "source": []
  }
 ],
 "metadata": {
  "kernelspec": {
   "display_name": "nlg (3.9.16)",
   "language": "python",
   "name": "nlg"
  },
  "language_info": {
   "codemirror_mode": {
    "name": "ipython",
    "version": 3
   },
   "file_extension": ".py",
   "mimetype": "text/x-python",
   "name": "python",
   "nbconvert_exporter": "python",
   "pygments_lexer": "ipython3",
   "version": "3.9.16"
  }
 },
 "nbformat": 4,
 "nbformat_minor": 5
}
