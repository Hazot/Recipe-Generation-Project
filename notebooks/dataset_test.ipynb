{
 "cells": [
  {
   "cell_type": "code",
   "execution_count": 1,
   "id": "71572fa1-b93d-490c-bc17-656dc4213456",
   "metadata": {},
   "outputs": [],
   "source": [
    "import numpy as np\n",
    "import pandas as pd\n",
    "from hydra.utils import get_original_cwd\n",
    "import os\n",
    "import re"
   ]
  },
  {
   "cell_type": "code",
   "execution_count": 2,
   "id": "5315817e-ca11-448e-8bcc-dff4ce4ec021",
   "metadata": {},
   "outputs": [],
   "source": [
    "local_path = os.path.normpath(os.getcwd() + os.sep + os.pardir)"
   ]
  },
  {
   "cell_type": "code",
   "execution_count": 3,
   "id": "98240b2e-5e8a-448d-ba0c-814d5424daf5",
   "metadata": {},
   "outputs": [],
   "source": [
    "test_train_path = local_path + \"/data/unsupervised_train.txt\"\n",
    "test_txt_path = local_path + \"/data/unsupervised_test.txt\""
   ]
  },
  {
   "cell_type": "code",
   "execution_count": 4,
   "id": "6d9530e6-c650-466e-8541-2bd7f83478cd",
   "metadata": {},
   "outputs": [],
   "source": [
    "with open(test_train_path, 'r') as f:\n",
    "    train = f.readlines()"
   ]
  },
  {
   "cell_type": "code",
   "execution_count": 5,
   "id": "a07fc421-7ccd-48e1-b7fb-e9e6bf52eeda",
   "metadata": {
    "tags": []
   },
   "outputs": [
    {
     "ename": "FileNotFoundError",
     "evalue": "[Errno 2] No such file or directory: '/home/kevin/code/udem/6289ift/project/data/unsupervised_test.txt'",
     "output_type": "error",
     "traceback": [
      "\u001b[0;31m---------------------------------------------------------------------------\u001b[0m",
      "\u001b[0;31mFileNotFoundError\u001b[0m                         Traceback (most recent call last)",
      "Cell \u001b[0;32mIn[5], line 1\u001b[0m\n\u001b[0;32m----> 1\u001b[0m \u001b[38;5;28;01mwith\u001b[39;00m \u001b[38;5;28;43mopen\u001b[39;49m\u001b[43m(\u001b[49m\u001b[43mtest_txt_path\u001b[49m\u001b[43m,\u001b[49m\u001b[43m \u001b[49m\u001b[38;5;124;43m'\u001b[39;49m\u001b[38;5;124;43mr\u001b[39;49m\u001b[38;5;124;43m'\u001b[39;49m\u001b[43m)\u001b[49m \u001b[38;5;28;01mas\u001b[39;00m f:\n\u001b[1;32m      2\u001b[0m     test \u001b[38;5;241m=\u001b[39m f\u001b[38;5;241m.\u001b[39mreadlines()\n",
      "File \u001b[0;32m~/miniconda3/envs/nlg/lib/python3.9/site-packages/IPython/core/interactiveshell.py:282\u001b[0m, in \u001b[0;36m_modified_open\u001b[0;34m(file, *args, **kwargs)\u001b[0m\n\u001b[1;32m    275\u001b[0m \u001b[38;5;28;01mif\u001b[39;00m file \u001b[38;5;129;01min\u001b[39;00m {\u001b[38;5;241m0\u001b[39m, \u001b[38;5;241m1\u001b[39m, \u001b[38;5;241m2\u001b[39m}:\n\u001b[1;32m    276\u001b[0m     \u001b[38;5;28;01mraise\u001b[39;00m \u001b[38;5;167;01mValueError\u001b[39;00m(\n\u001b[1;32m    277\u001b[0m         \u001b[38;5;124mf\u001b[39m\u001b[38;5;124m\"\u001b[39m\u001b[38;5;124mIPython won\u001b[39m\u001b[38;5;124m'\u001b[39m\u001b[38;5;124mt let you open fd=\u001b[39m\u001b[38;5;132;01m{\u001b[39;00mfile\u001b[38;5;132;01m}\u001b[39;00m\u001b[38;5;124m by default \u001b[39m\u001b[38;5;124m\"\u001b[39m\n\u001b[1;32m    278\u001b[0m         \u001b[38;5;124m\"\u001b[39m\u001b[38;5;124mas it is likely to crash IPython. If you know what you are doing, \u001b[39m\u001b[38;5;124m\"\u001b[39m\n\u001b[1;32m    279\u001b[0m         \u001b[38;5;124m\"\u001b[39m\u001b[38;5;124myou can use builtins\u001b[39m\u001b[38;5;124m'\u001b[39m\u001b[38;5;124m open.\u001b[39m\u001b[38;5;124m\"\u001b[39m\n\u001b[1;32m    280\u001b[0m     )\n\u001b[0;32m--> 282\u001b[0m \u001b[38;5;28;01mreturn\u001b[39;00m \u001b[43mio_open\u001b[49m\u001b[43m(\u001b[49m\u001b[43mfile\u001b[49m\u001b[43m,\u001b[49m\u001b[43m \u001b[49m\u001b[38;5;241;43m*\u001b[39;49m\u001b[43margs\u001b[49m\u001b[43m,\u001b[49m\u001b[43m \u001b[49m\u001b[38;5;241;43m*\u001b[39;49m\u001b[38;5;241;43m*\u001b[39;49m\u001b[43mkwargs\u001b[49m\u001b[43m)\u001b[49m\n",
      "\u001b[0;31mFileNotFoundError\u001b[0m: [Errno 2] No such file or directory: '/home/kevin/code/udem/6289ift/project/data/unsupervised_test.txt'"
     ]
    }
   ],
   "source": [
    "with open(test_txt_path, 'r') as f:\n",
    "    test = f.readlines()"
   ]
  },
  {
   "cell_type": "code",
   "execution_count": 6,
   "id": "b04c634b-2284-4893-846b-e27328c982ac",
   "metadata": {
    "tags": []
   },
   "outputs": [
    {
     "data": {
      "text/plain": [
       "(106510,)"
      ]
     },
     "execution_count": 6,
     "metadata": {},
     "output_type": "execute_result"
    }
   ],
   "source": [
    "arr_test = np.array(test)\n",
    "arr_test.shape"
   ]
  },
  {
   "cell_type": "code",
   "execution_count": 8,
   "id": "a0e3cad9-4c01-44aa-b340-42db01ae929d",
   "metadata": {
    "tags": []
   },
   "outputs": [
    {
     "data": {
      "text/plain": [
       "(105054,)"
      ]
     },
     "execution_count": 8,
     "metadata": {},
     "output_type": "execute_result"
    }
   ],
   "source": [
    "filtered_test = arr_test[np.char.find(arr_test, '<RECIPE_START>') >= 0]\n",
    "filtered_test.shape"
   ]
  },
  {
   "cell_type": "code",
   "execution_count": 24,
   "id": "b5bafb67-a9b9-4401-b9a7-99c76efb62fb",
   "metadata": {
    "tags": []
   },
   "outputs": [
    {
     "data": {
      "text/plain": [
       "(1456,)"
      ]
     },
     "execution_count": 24,
     "metadata": {},
     "output_type": "execute_result"
    }
   ],
   "source": [
    "wrong_test = arr_test[np.char.find(arr_test, '<RECIPE_START>') < 0]\n",
    "wrong_test.shape"
   ]
  },
  {
   "cell_type": "code",
   "execution_count": 23,
   "id": "78485a4e-a116-4438-ac0f-614f1acfe948",
   "metadata": {
    "tags": []
   },
   "outputs": [
    {
     "data": {
      "text/plain": [
       "array(['<RECIPE_START> <INPUT_START> Soy sauce <NEXT_INPUT> bacon <NEXT_INPUT> mushrooms <NEXT_INPUT> Red pepper <NEXT_INPUT> Garlic oil <NEXT_INPUT> soy sauce <NEXT_INPUT> sake <NEXT_INPUT> sugar <NEXT_INPUT> Garlic Oil <NEXT_INPUT> olive oil <NEXT_INPUT> garlic <INPUT_END> <INGR_START> Soy sauce flavored Spaghetti <NEXT_INGR> 1/4lb. (100g) spaghetti <NEXT_INGR> 2oz.(50g) thick-cut bacon <NEXT_INGR> 2oz. (50g) a variety of mushrooms <NEXT_INGR> Red pepper flakes <NEXT_INGR> 2 Tablespoon Parmigiano Reggiano <NEXT_INGR> 1 Tablespoon Garlic oil <NEXT_INGR> {Japanese Pasta sauce} <NEXT_INGR> 1 teaspoon soy sauce <NEXT_INGR> 1 teaspoon sake <NEXT_INGR> 1 teaspoon sugar <NEXT_INGR> Garlic Oil <NEXT_INGR> 1/2 cup olive oil <NEXT_INGR> 5 cloves garlic, finely chopped <INGR_END> <INSTR_START> Chop bacon into small pieces. Separate or cut mushrooms into small pieces. <NEXT_INSTR> In a pot, boil 1 quart of water. When boiling add 2 teaspoons kosher salt and pasta; cook for 2 minutes shorter than Package directions. <NEXT_INSTR> Heat a skillet over medium heat, brown bacon. Add mushrooms; cook until brown. Remove the bacon and mushrooms from the skillet. Reduce the heat to low. Add garlic oil (including pieces of garlic) and red pepper flakes; cook for about 2 minutes or until fragrant**. Return the bacon and mushrooms, and add 1 Tablespoon of the Boiling water from Pasta pot and Japanese Pasta Sauce. Shake the skillet to emulsify the sauce. <NEXT_INSTR> Add the spaghetti to the skillet. Toss well to combine. Let it rest for a few minutes to allow the sauce to coat the pasta. <NEXT_INSTR> Serve with fresh grated Parmigiano Reggiano cheese <NEXT_INSTR> Additional Notes:\\n',\n",
       "       '*Be careful not to burn or over-brown the garlic because it will taste bitter. <NEXT_INSTR> Put olive oil and garlic into Jam Jar. <NEXT_INSTR> Additional Notes:\\n',\n",
       "       \"<RECIPE_START> <INPUT_START> eggs <NEXT_INPUT> parsley <NEXT_INPUT> mushrooms <NEXT_INPUT> salt <NEXT_INPUT> olive oil <INPUT_END> <INGR_START> 4 eggs <NEXT_INGR> parsley <NEXT_INGR> 2 handfuls Parisian mushrooms <NEXT_INGR> salt and pepper <NEXT_INGR> 1 teaspoon olive oil <INGR_END> <INSTR_START> Start with your mushrooms saute in a pan a (large enough for the omelet, it will be the same) with a teaspoon of olive oil (it will be evaporated before adding the eggs). Stir from time to time and add salt and pepper. <NEXT_INSTR> Beat four eggs together in a bowl and season with salt and pepper. <NEXT_INSTR> Once the mushrooms are cooked, pour over the eggs and add the parsley (chopped beforehand). Depending on your taste, leave more or less cooked. To me, a good french omelet is flowing but everyone's tastes! <NEXT_INSTR> Serve immediately with a salad.\\n\",\n",
       "       '<RECIPE_START> <INPUT_START> bread crumbs <NEXT_INPUT> sesame seeds <NEXT_INPUT> eggs <NEXT_INPUT> kosher salt <NEXT_INPUT> Honey <NEXT_INPUT> honey <NEXT_INPUT> mustard <NEXT_INPUT> mayonnaise <NEXT_INPUT> balsamic <INPUT_END> <INGR_START> Tempeh Sticks <NEXT_INGR> 1/2 cup panko bread crumbs <NEXT_INGR> 1/4 cup sesame seeds, toasted* <NEXT_INGR> 2 large eggs <NEXT_INGR> 1 teaspoon kosher salt <NEXT_INGR> 2 (8-oz.) packages tempeh, any style <NEXT_INGR> Honey-Dijon Dip <NEXT_INGR> 1 tablespoon honey <NEXT_INGR> 2 teaspoons Dijon mustard <NEXT_INGR> 1 cup mayonnaise <NEXT_INGR> 1 tablespoon balsamic <INGR_END> <INSTR_START> Preheat the oven to 400 degrees. <NEXT_INSTR> On a flat plate or piece of wax paper, combine breadcrumbs and seeds. Mix well. In a shallow bowl, beat the eggs with 1/2 tsp salt. <NEXT_INSTR> Cut the tempeh into 10 sticks (from one short end to the other). Dip the sticks into the eggs then into the bread crumbs, making sure to coat all sides. <NEXT_INSTR> Place the strips on a baking sheet and bake until they start to brown, about 15 minutes. Turn them over and bake another 6 to 8 minutes, or until browned underneath. <NEXT_INSTR> *To toast sesame seeds, heat a small pan over medium heat. Add the seeds and let the toast for a minute or two, shaking or stirring them frequently, until they turn light brown. <NEXT_INSTR> For the dip: \\n',\n",
       "       'Whisk together all the ingredients until well combined. \\n',\n",
       "       '<RECIPE_START> <INPUT_START> Gnudi <NEXT_INPUT> eggs <NEXT_INPUT> ricotta <NEXT_INPUT> flour <NEXT_INPUT> fresh ground black pepper <NEXT_INPUT> parsley <NEXT_INPUT> Parsley Sauce <NEXT_INPUT> cold butter <NEXT_INPUT> EVOO <NEXT_INPUT> hot red chili peppers <NEXT_INPUT> garlic <NEXT_INPUT> parsley <NEXT_INPUT> salt <INPUT_END> <INGR_START> Gnudi <NEXT_INGR> 3 lg. eggs <NEXT_INGR> 425g tub ricotta <NEXT_INGR> 1/2 cup flour <NEXT_INGR> 1/2 teaspoon fresh ground black pepper <NEXT_INGR> 3 tablespoons chopped parsley, stem included <NEXT_INGR> Browned Butter Parsley Sauce <NEXT_INGR> 4 tablespoons cold butter <NEXT_INGR> 1/4 cup EVOO <NEXT_INGR> 1 teaspoon hot red chili peppers (flakes can be used) <NEXT_INGR> 2 garlic cloves, sliced thinly <NEXT_INGR> 2 tablespoons chopped parsley leaves <NEXT_INGR> salt <INGR_END> <INSTR_START> In a large bowl whisk eggs until frothy. Add ricotta and whisk vigorously. Add salt, pepper, parsley and parmesan. Stir to blend.\\n',\n",
       "       '\\n', ' \\n', '\\n',\n",
       "       'Slowly add flours, blend. Refrigerate for 30 minutes or up to 2 days covered with plastic wrap. <NEXT_INSTR> Using two soup spoons shape into oval or round shapes 2\"-3\" balls.\\n'],\n",
       "      dtype='<U17149')"
      ]
     },
     "execution_count": 23,
     "metadata": {},
     "output_type": "execute_result"
    }
   ],
   "source": [
    "wrong_test[:10]"
   ]
  },
  {
   "cell_type": "code",
   "execution_count": 16,
   "id": "2710f68b-977f-48ca-af51-3282dcdb8b18",
   "metadata": {
    "tags": []
   },
   "outputs": [
    {
     "data": {
      "text/plain": [
       "array(['Drop shaped dumplings carefully into the water. They will sink.\\n',\n",
       "       '\\n',\n",
       "       'Turn the heat down to a simmer. Allow the dumplings to rise to the top. Cook for 1 minute.\\n',\n",
       "       '\\n',\n",
       "       'You could check one by cutting it in half to see if it is cooked through. Taste it to see if it is the right consistency.\\n',\n",
       "       '\\n', ' \\n', '\\n',\n",
       "       'Drain on a baking rack and tray. This can be cooled and refrigerated for 1-2 hrs. <NEXT_INSTR> When all of the Gnudi have drained. Cook for 1 minute on each side in the butter sauce. Serve hot with extra cheese if desired. <NEXT_INSTR> Add oil and butter to a skillet on medium high heat. Begin to melt the butter. <NEXT_INSTR> Butter foams before the milk solids brown.\\n',\n",
       "       '\\n'], dtype='<U17149')"
      ]
     },
     "execution_count": 16,
     "metadata": {},
     "output_type": "execute_result"
    }
   ],
   "source": [
    "wrong_test[10:20]"
   ]
  },
  {
   "cell_type": "code",
   "execution_count": null,
   "id": "de55151b-6923-4c1a-9f20-cd3fe8bd3afd",
   "metadata": {
    "tags": []
   },
   "outputs": [],
   "source": [
    "pattern = re.compile(r'<RECIPE_START>')"
   ]
  },
  {
   "cell_type": "code",
   "execution_count": null,
   "id": "8dec7c21-74e5-48e9-a412-b2d47e45d3ce",
   "metadata": {
    "tags": []
   },
   "outputs": [
    {
     "ename": "MemoryError",
     "evalue": "Unable to allocate 171. GiB for an array with shape (1850520,) and data type <U24743",
     "output_type": "error",
     "traceback": [
      "\u001b[0;31m---------------------------------------------------------------------------\u001b[0m",
      "\u001b[0;31mMemoryError\u001b[0m                               Traceback (most recent call last)",
      "Cell \u001b[0;32mIn[9], line 1\u001b[0m\n\u001b[0;32m----> 1\u001b[0m filtered_arr \u001b[38;5;241m=\u001b[39m \u001b[43mnp\u001b[49m\u001b[38;5;241;43m.\u001b[39;49m\u001b[43marray\u001b[49m\u001b[43m(\u001b[49m\u001b[43m[\u001b[49m\u001b[43mline\u001b[49m\u001b[43m \u001b[49m\u001b[38;5;28;43;01mfor\u001b[39;49;00m\u001b[43m \u001b[49m\u001b[43mline\u001b[49m\u001b[43m \u001b[49m\u001b[38;5;129;43;01min\u001b[39;49;00m\u001b[43m \u001b[49m\u001b[43mtrain\u001b[49m\u001b[43m \u001b[49m\u001b[38;5;28;43;01mif\u001b[39;49;00m\u001b[43m \u001b[49m\u001b[43mpattern\u001b[49m\u001b[38;5;241;43m.\u001b[39;49m\u001b[43msearch\u001b[49m\u001b[43m(\u001b[49m\u001b[43mline\u001b[49m\u001b[43m)\u001b[49m\u001b[43m]\u001b[49m\u001b[43m)\u001b[49m\n",
      "\u001b[0;31mMemoryError\u001b[0m: Unable to allocate 171. GiB for an array with shape (1850520,) and data type <U24743"
     ]
    }
   ],
   "source": [
    "filtered_arr = np.array([line for line in arr_test if pattern.search(line)])"
   ]
  },
  {
   "cell_type": "code",
   "execution_count": 22,
   "id": "a7f8fd25-9f01-4e91-bc27-26dc3b50c334",
   "metadata": {
    "tags": []
   },
   "outputs": [
    {
     "data": {
      "text/plain": [
       "(105054,)"
      ]
     },
     "execution_count": 22,
     "metadata": {},
     "output_type": "execute_result"
    }
   ],
   "source": [
    "filtered_arr.shape"
   ]
  }
 ],
 "metadata": {
  "kernelspec": {
   "display_name": "nlg (3.9.16)",
   "language": "python",
   "name": "nlg"
  },
  "language_info": {
   "codemirror_mode": {
    "name": "ipython",
    "version": 3
   },
   "file_extension": ".py",
   "mimetype": "text/x-python",
   "name": "python",
   "nbconvert_exporter": "python",
   "pygments_lexer": "ipython3",
   "version": "3.9.16"
  }
 },
 "nbformat": 4,
 "nbformat_minor": 5
}
