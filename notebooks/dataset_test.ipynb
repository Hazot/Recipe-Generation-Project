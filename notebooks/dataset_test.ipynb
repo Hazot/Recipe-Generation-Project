{
 "cells": [
  {
   "cell_type": "code",
   "execution_count": 1,
   "id": "71572fa1-b93d-490c-bc17-656dc4213456",
   "metadata": {
    "ExecuteTime": {
     "end_time": "2023-09-15T20:30:55.878827472Z",
     "start_time": "2023-09-15T20:30:55.606454403Z"
    }
   },
   "outputs": [],
   "source": [
    "import numpy as np\n",
    "import pandas as pd\n",
    "from hydra.utils import get_original_cwd\n",
    "import os\n",
    "import re\n",
    "from tqdm import tqdm\n",
    "import math"
   ]
  },
  {
   "cell_type": "code",
   "execution_count": 2,
   "id": "5315817e-ca11-448e-8bcc-dff4ce4ec021",
   "metadata": {
    "ExecuteTime": {
     "end_time": "2023-09-15T20:30:55.891200370Z",
     "start_time": "2023-09-15T20:30:55.881980883Z"
    }
   },
   "outputs": [],
   "source": [
    "local_path = os.path.normpath(os.getcwd() + os.sep + os.pardir)"
   ]
  },
  {
   "cell_type": "code",
   "execution_count": 13,
   "id": "98240b2e-5e8a-448d-ba0c-814d5424daf5",
   "metadata": {
    "ExecuteTime": {
     "end_time": "2023-09-15T20:36:47.743280576Z",
     "start_time": "2023-09-15T20:36:47.702902329Z"
    }
   },
   "outputs": [],
   "source": [
    "train_txt_path = local_path + \"/data/unsupervised_train_filtered.txt\"\n",
    "test_txt_path = local_path + \"/data/unsupervised_test_filtered.txt\""
   ]
  },
  {
   "cell_type": "code",
   "execution_count": 23,
   "id": "b64f492f-e746-4985-ab42-78e9cf871692",
   "metadata": {
    "tags": [],
    "ExecuteTime": {
     "end_time": "2023-09-15T20:39:06.129584757Z",
     "start_time": "2023-09-15T20:39:06.082138903Z"
    }
   },
   "outputs": [],
   "source": [
    "def filter_txt(input_path, output_path):\n",
    "    print(\"Filtering\", input_path, \"to\", output_path)\n",
    "    count = 0\n",
    "    bad_lines = pd.DataFrame()\n",
    "    pattern1 = r\"<RECIPE_START>\"\n",
    "    pattern2 = r\"<RECIPE_END>\"\n",
    "    pattern3 = r\"<INGR_END>\"\n",
    "    pattern4 = r\"<INPUT_END>\"\n",
    "    with open(input_path, 'r') as f_in:\n",
    "        with open(output_path, 'w') as f_out:\n",
    "            for i, row in tqdm(enumerate(f_in), desc=\"Filtering\"):\n",
    "                if i % 2 == 0:\n",
    "                    if re.search(pattern1, row) and re.search(pattern2, row) and re.search(pattern3, row) and re.search(pattern4, row):\n",
    "                        f_out.write(\"{}\\n\".format(row))\n",
    "                        continue\n",
    "                    else:\n",
    "                        d = {'index': i,\n",
    "                             'txt': row}\n",
    "                        new_row = pd.DataFrame(d, index=[0])\n",
    "                        bad_lines = pd.concat([bad_lines, new_row]).reset_index(drop=True)\n",
    "                        count += 1\n",
    "                else:\n",
    "                    continue\n",
    "    print('count', count)\n",
    "    return bad_lines"
   ]
  },
  {
   "cell_type": "code",
   "execution_count": 24,
   "id": "16f5a5c9-a708-469f-9abb-8eb407372e22",
   "metadata": {
    "ExecuteTime": {
     "end_time": "2023-09-15T20:39:07.043153488Z",
     "start_time": "2023-09-15T20:39:06.715379352Z"
    }
   },
   "outputs": [
    {
     "name": "stdout",
     "output_type": "stream",
     "text": [
      "Filtering /part/01/Tmp/lessarke/code/Recipe-Generation-Project/data/unsupervised_test_filtered.txt to /part/01/Tmp/lessarke/code/Recipe-Generation-Project/data/unsupervised_test_filtered_test.txt\n"
     ]
    },
    {
     "name": "stderr",
     "output_type": "stream",
     "text": [
      "Filtering: 166234it [00:00, 598231.08it/s]\n"
     ]
    },
    {
     "name": "stdout",
     "output_type": "stream",
     "text": [
      "count 0\n"
     ]
    },
    {
     "data": {
      "text/plain": "Empty DataFrame\nColumns: []\nIndex: []",
      "text/html": "<div>\n<style scoped>\n    .dataframe tbody tr th:only-of-type {\n        vertical-align: middle;\n    }\n\n    .dataframe tbody tr th {\n        vertical-align: top;\n    }\n\n    .dataframe thead th {\n        text-align: right;\n    }\n</style>\n<table border=\"1\" class=\"dataframe\">\n  <thead>\n    <tr style=\"text-align: right;\">\n      <th></th>\n    </tr>\n  </thead>\n  <tbody>\n  </tbody>\n</table>\n</div>"
     },
     "execution_count": 24,
     "metadata": {},
     "output_type": "execute_result"
    }
   ],
   "source": [
    "df = filter_txt(test_txt_path, test_output_path)\n",
    "df.head(20)"
   ]
  },
  {
   "cell_type": "code",
   "execution_count": 25,
   "id": "a87da90c-9f0d-44a7-82bf-e7de9ca3ecab",
   "metadata": {
    "ExecuteTime": {
     "end_time": "2023-09-15T20:39:13.932947148Z",
     "start_time": "2023-09-15T20:39:07.859027561Z"
    }
   },
   "outputs": [
    {
     "name": "stdout",
     "output_type": "stream",
     "text": [
      "Filtering /part/01/Tmp/lessarke/code/Recipe-Generation-Project/data/unsupervised_train_filtered.txt to /part/01/Tmp/lessarke/code/Recipe-Generation-Project/data/unsupervised_train_filtered_test.txt\n"
     ]
    },
    {
     "name": "stderr",
     "output_type": "stream",
     "text": [
      "Filtering: 3160790it [00:05, 601028.72it/s]\n"
     ]
    },
    {
     "name": "stdout",
     "output_type": "stream",
     "text": [
      "count 0\n"
     ]
    },
    {
     "data": {
      "text/plain": "Empty DataFrame\nColumns: []\nIndex: []",
      "text/html": "<div>\n<style scoped>\n    .dataframe tbody tr th:only-of-type {\n        vertical-align: middle;\n    }\n\n    .dataframe tbody tr th {\n        vertical-align: top;\n    }\n\n    .dataframe thead th {\n        text-align: right;\n    }\n</style>\n<table border=\"1\" class=\"dataframe\">\n  <thead>\n    <tr style=\"text-align: right;\">\n      <th></th>\n    </tr>\n  </thead>\n  <tbody>\n  </tbody>\n</table>\n</div>"
     },
     "execution_count": 25,
     "metadata": {},
     "output_type": "execute_result"
    }
   ],
   "source": [
    "df = filter_txt(train_txt_path, train_output_path)\n",
    "df.head(20)"
   ]
  },
  {
   "cell_type": "code",
   "execution_count": 54,
   "outputs": [
    {
     "name": "stdout",
     "output_type": "stream",
     "text": [
      "/part/01/Tmp/lessarke/code/Recipe-Generation-Project/data/unsupervised_train_filtered\n",
      "/part/01/Tmp/lessarke/code/Recipe-Generation-Project/data/unsupervised_test_filtered\n"
     ]
    }
   ],
   "source": [
    "train_txt_path_name = train_txt_path[:-4]\n",
    "print(train_txt_path_name)\n",
    "test_txt_path_name = test_txt_path[:-4]\n",
    "print(test_txt_path_name)"
   ],
   "metadata": {
    "collapsed": false,
    "ExecuteTime": {
     "end_time": "2023-09-15T21:27:52.475669282Z",
     "start_time": "2023-09-15T21:27:52.473903077Z"
    }
   }
  },
  {
   "cell_type": "code",
   "execution_count": 55,
   "id": "bdcd6568-4831-43f2-812a-5ba3a3ed3b86",
   "metadata": {
    "ExecuteTime": {
     "end_time": "2023-09-15T21:27:52.593022045Z",
     "start_time": "2023-09-15T21:27:52.591914931Z"
    }
   },
   "outputs": [],
   "source": [
    "import math\n",
    "def get_smaller_dataset_txt(input_file, nb_recipes=None, percentage_ratio=None):\n",
    "    with open(input_file + '.txt', 'r') as f:\n",
    "        data = f.readlines()\n",
    "    if percentage_ratio:\n",
    "        nb_recipes = math.ceil(len(data) * percentage_ratio)\n",
    "    data = data[:nb_recipes]\n",
    "    with open(input_file + f\"_{nb_recipes}\" + '.txt', 'w') as f:\n",
    "        f.writelines(data)"
   ]
  },
  {
   "cell_type": "code",
   "execution_count": 56,
   "outputs": [],
   "source": [
    "get_smaller_dataset_txt(train_txt_path_name, percentage_ratio=0.01)\n",
    "get_smaller_dataset_txt(test_txt_path_name, percentage_ratio=0.01)"
   ],
   "metadata": {
    "collapsed": false,
    "ExecuteTime": {
     "end_time": "2023-09-15T21:27:53.610379574Z",
     "start_time": "2023-09-15T21:27:52.710897566Z"
    }
   }
  },
  {
   "cell_type": "code",
   "execution_count": null,
   "outputs": [],
   "source": [],
   "metadata": {
    "collapsed": false
   }
  }
 ],
 "metadata": {
  "kernelspec": {
   "name": "python3",
   "language": "python",
   "display_name": "Python 3 (ipykernel)"
  },
  "language_info": {
   "codemirror_mode": {
    "name": "ipython",
    "version": 3
   },
   "file_extension": ".py",
   "mimetype": "text/x-python",
   "name": "python",
   "nbconvert_exporter": "python",
   "pygments_lexer": "ipython3",
   "version": "3.9.17"
  }
 },
 "nbformat": 4,
 "nbformat_minor": 5
}
