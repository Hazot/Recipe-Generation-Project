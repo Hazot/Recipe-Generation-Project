{
 "cells": [
  {
   "cell_type": "code",
   "execution_count": null,
   "id": "71572fa1-b93d-490c-bc17-656dc4213456",
   "metadata": {},
   "outputs": [],
   "source": [
    "import numpy as np\n",
    "import pandas as pd\n",
    "from hydra.utils import get_original_cwd\n",
    "import os\n",
    "import re\n",
    "from tqdm import tqdm"
   ]
  },
  {
   "cell_type": "code",
   "execution_count": null,
   "id": "5315817e-ca11-448e-8bcc-dff4ce4ec021",
   "metadata": {},
   "outputs": [],
   "source": [
    "local_path = os.path.normpath(os.getcwd() + os.sep + os.pardir)"
   ]
  },
  {
   "cell_type": "code",
   "execution_count": null,
   "id": "98240b2e-5e8a-448d-ba0c-814d5424daf5",
   "metadata": {},
   "outputs": [],
   "source": [
    "train_txt_path = local_path + \"/data/unsupervised_train.txt\"\n",
    "test_txt_path = local_path + \"/data/unsupervised_test.txt\""
   ]
  },
  {
   "cell_type": "code",
   "execution_count": null,
   "id": "c3a228b7-7496-4ba5-8c74-d660e9f579c8",
   "metadata": {},
   "outputs": [],
   "source": [
    "test_output_path = local_path + \"/data/unsupervised_test_filtered.txt\"\n",
    "train_output_path = local_path + \"/data/unsupervised_train_filtered.txt\""
   ]
  },
  {
   "cell_type": "code",
   "execution_count": null,
   "id": "b64f492f-e746-4985-ab42-78e9cf871692",
   "metadata": {
    "tags": []
   },
   "outputs": [],
   "source": [
    "def filter_txt(input_path, output_path):\n",
    "    print(\"Filtering\", input_path, \"to\", output_path)\n",
    "    count = 0\n",
    "    bad_lines = pd.DataFrame()\n",
    "    pattern1 = r\"<RECIPE_START>\"\n",
    "    pattern2 = r\"<RECIPE_END>\"\n",
    "    with open(input_path, 'r') as f_in:\n",
    "        with open(output_path, 'w') as f_out:\n",
    "            for i, row in tqdm(enumerate(f_in), desc=\"Filtering\"):\n",
    "                if re.search(pattern1, row) and re.search(pattern2, row):\n",
    "                    f_out.write(\"{}\\n\".format(row))\n",
    "                    continue\n",
    "                else:\n",
    "                    d = {'index': i,\n",
    "                         'txt': row}\n",
    "                    new_row = pd.DataFrame(d, index=[0])\n",
    "                    bad_lines = pd.concat([bad_lines, new_row]).reset_index(drop=True)\n",
    "                    count += 1\n",
    "    print('count', count)\n",
    "    return bad_lines"
   ]
  },
  {
   "cell_type": "code",
   "execution_count": null,
   "id": "16f5a5c9-a708-469f-9abb-8eb407372e22",
   "metadata": {},
   "outputs": [],
   "source": [
    "df = filter_txt(test_txt_path, test_output_path)\n",
    "df.head()"
   ]
  },
  {
   "cell_type": "code",
   "execution_count": null,
   "id": "a87da90c-9f0d-44a7-82bf-e7de9ca3ecab",
   "metadata": {},
   "outputs": [],
   "source": [
    "df = filter_txt(train_txt_path, train_output_path)\n",
    "df.head()"
   ]
  },
  {
   "cell_type": "code",
   "execution_count": null,
   "id": "bdcd6568-4831-43f2-812a-5ba3a3ed3b86",
   "metadata": {},
   "outputs": [],
   "source": []
  },
  {
   "cell_type": "code",
   "execution_count": null,
   "id": "26ff7fa3-3211-4c75-a3cb-1c79f7c70162",
   "metadata": {},
   "outputs": [],
   "source": []
  }
 ],
 "metadata": {
  "kernelspec": {
   "display_name": "nlg (3.9.16)",
   "language": "python",
   "name": "nlg"
  },
  "language_info": {
   "codemirror_mode": {
    "name": "ipython",
    "version": 3
   },
   "file_extension": ".py",
   "mimetype": "text/x-python",
   "name": "python",
   "nbconvert_exporter": "python",
   "pygments_lexer": "ipython3",
   "version": "3.9.16"
  }
 },
 "nbformat": 4,
 "nbformat_minor": 5
}
