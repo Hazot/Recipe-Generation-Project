{
 "cells": [
  {
   "cell_type": "code",
   "execution_count": null,
   "id": "9a522ba3-9719-4ab7-a896-6980d80e5b54",
   "metadata": {},
   "outputs": [],
   "source": [
    "import json\n",
    "import pandas as pd\n",
    "import os\n",
    "import numpy as np\n",
    "import re"
   ]
  },
  {
   "cell_type": "markdown",
   "id": "bf448f19-73c5-4423-bada-8f377930969b",
   "metadata": {},
   "source": [
    "## Full Dataset Analysis"
   ]
  },
  {
   "cell_type": "code",
   "execution_count": null,
   "id": "1bbdece8-611f-45fe-a877-c1d68e69cda7",
   "metadata": {},
   "outputs": [],
   "source": [
    "dataset_path = os.getcwd() + '/..' + '/data/full_dataset.csv'\n",
    "dataset_path"
   ]
  },
  {
   "cell_type": "code",
   "execution_count": null,
   "id": "a7afcbce-aa96-4d47-952f-68202c949a53",
   "metadata": {},
   "outputs": [],
   "source": [
    "df = pd.read_csv(dataset_path)"
   ]
  },
  {
   "cell_type": "code",
   "execution_count": null,
   "id": "6ab2a3f3-14ae-4ded-9208-effacec9dadb",
   "metadata": {},
   "outputs": [],
   "source": [
    "print(df.columns)\n",
    "print(df.shape)"
   ]
  },
  {
   "cell_type": "code",
   "execution_count": null,
   "id": "e3f53ee0-9a65-4617-9e02-b8911dab8e26",
   "metadata": {},
   "outputs": [],
   "source": [
    "df = df.dropna()"
   ]
  },
  {
   "cell_type": "code",
   "execution_count": null,
   "id": "f3aff962-c559-4179-88a7-400b74cba756",
   "metadata": {},
   "outputs": [],
   "source": [
    "df[\"title\"].apply(type).value_counts()"
   ]
  },
  {
   "cell_type": "code",
   "execution_count": null,
   "id": "8f1e65fe-3324-4d2b-940b-1ebfcd54ee0e",
   "metadata": {},
   "outputs": [],
   "source": [
    "df[\"ingredients\"].apply(type).value_counts()"
   ]
  },
  {
   "cell_type": "code",
   "execution_count": null,
   "id": "06cb504b-8a34-4863-a0fa-7877d9e8cb58",
   "metadata": {},
   "outputs": [],
   "source": [
    "df[\"directions\"].apply(type).value_counts()"
   ]
  },
  {
   "cell_type": "code",
   "execution_count": null,
   "id": "2bb7e82d-42ee-4ca2-a8df-e44896e31e14",
   "metadata": {},
   "outputs": [],
   "source": [
    "df[df['title'].apply(type) == float]  ## Helped to find a title that was a NaN"
   ]
  },
  {
   "cell_type": "code",
   "execution_count": null,
   "id": "7fe10dc3-bb91-4fd4-940f-84e932d0d014",
   "metadata": {},
   "outputs": [],
   "source": [
    "len(eval(df.ingredients.loc[0])) > 2"
   ]
  },
  {
   "cell_type": "code",
   "execution_count": null,
   "id": "b372453b-eec9-469a-844d-1106b610d3f5",
   "metadata": {},
   "outputs": [],
   "source": [
    "remove1 = df.loc[df.title.map(lambda x: len(x) < 5)]\n",
    "remove2 = df.loc[df.ingredients.map(lambda x: len(eval(x)) < 3)]\n",
    "remove3 = df.loc[df.directions.map(lambda x: len(eval(x)) < 2 or len(x) < 30)]\n",
    "remove4 = df.loc[df.directions.map(lambda x: re.search('(step|mix all)', ''.join(x), re.IGNORECASE) != None)]"
   ]
  },
  {
   "cell_type": "code",
   "execution_count": null,
   "id": "25f012ba-3f5f-4bf9-8a4d-e56849b2ec3a",
   "metadata": {
    "scrolled": true
   },
   "outputs": [],
   "source": [
    "print('remove1:', len(remove1))\n",
    "print('remove2:', len(remove2))\n",
    "print('remove3:', len(remove3))\n",
    "print('remove4:', len(remove4))"
   ]
  },
  {
   "cell_type": "code",
   "execution_count": null,
   "id": "928d0abb-777e-4439-bd56-e2f3a31c4fa7",
   "metadata": {},
   "outputs": [],
   "source": [
    "print('len of removed lines: ' + str(len(remove3)+len(remove2)+len(remove1)+len(remove4)))"
   ]
  },
  {
   "cell_type": "markdown",
   "id": "e26895a7-737d-4238-b6c4-629fcc0335ea",
   "metadata": {
    "jp-MarkdownHeadingCollapsed": true
   },
   "source": [
    "## Json Data Analysis"
   ]
  },
  {
   "cell_type": "code",
   "execution_count": null,
   "id": "6a94e495-2003-4cc6-a3b3-2e5228f265a4",
   "metadata": {},
   "outputs": [],
   "source": [
    "file = os.getcwd() + '/..' + '/data/json_recipes_500000.json'\n",
    "file"
   ]
  },
  {
   "cell_type": "code",
   "execution_count": null,
   "id": "be50e8ce-96de-4bee-9c55-e7044e0785f2",
   "metadata": {},
   "outputs": [],
   "source": [
    "df = pd.read_json(file)"
   ]
  },
  {
   "cell_type": "code",
   "execution_count": null,
   "id": "80b6d5fa-ee48-4d62-941a-33fe74518c58",
   "metadata": {},
   "outputs": [],
   "source": [
    "df"
   ]
  },
  {
   "cell_type": "code",
   "execution_count": null,
   "id": "6d99cf6a-e34a-44f0-9640-9f6e251dd26c",
   "metadata": {},
   "outputs": [],
   "source": [
    "df['input'].value_counts()"
   ]
  },
  {
   "cell_type": "code",
   "execution_count": null,
   "id": "996104dd-a571-413b-a096-624ec745067a",
   "metadata": {},
   "outputs": [],
   "source": [
    "df['input']."
   ]
  },
  {
   "cell_type": "code",
   "execution_count": null,
   "id": "f97467f7-16d8-4977-8ee9-691f5c45709a",
   "metadata": {},
   "outputs": [],
   "source": [
    "def filter_txt(input_path, output_path, logger):\n",
    "    logger.info(\"Filtering \"+ input_path + \" to \" + output_path)\n",
    "    count = 0\n",
    "    bad_lines = pd.DataFrame()\n",
    "    pattern1 = r\"<RECIPE_START>\"\n",
    "    pattern2 = r\"<RECIPE_END>\"\n",
    "    with open(input_path, 'r') as f_in:\n",
    "        with open(output_path, 'w') as f_out:\n",
    "            for i, row in tqdm(enumerate(f_in), desc=\"Filtering\"):\n",
    "                if re.search(pattern1, row) and re.search(pattern2, row):\n",
    "                    ingr_start_index = row.find(\"<INPUT_START>\")\n",
    "                    ingr_end_index = row.find(\"<INPUT_END>\")\n",
    "                    if ingr_end_index - ingr_start_index > 10 and ingr_end_index - ingr_start_index < 300:\n",
    "                        f_out.write(\"{}\\n\".format(row))\n",
    "                        continue\n",
    "                else:\n",
    "                    d = {'index': i,\n",
    "                         'txt': row}\n",
    "                    new_row = pd.DataFrame(d, index=[0])\n",
    "                    bad_lines = pd.concat([bad_lines, new_row]).reset_index(drop=True)\n",
    "                    count += 1"
   ]
  },
  {
   "cell_type": "code",
   "execution_count": null,
   "id": "6bc06965-0e47-435e-a743-7a11a315e75e",
   "metadata": {},
   "outputs": [],
   "source": []
  }
 ],
 "metadata": {
  "kernelspec": {
   "display_name": "nlg (py3.9-cu11.7)",
   "language": "python",
   "name": "myenv"
  },
  "language_info": {
   "codemirror_mode": {
    "name": "ipython",
    "version": 3
   },
   "file_extension": ".py",
   "mimetype": "text/x-python",
   "name": "python",
   "nbconvert_exporter": "python",
   "pygments_lexer": "ipython3",
   "version": "3.9.17"
  }
 },
 "nbformat": 4,
 "nbformat_minor": 5
}
